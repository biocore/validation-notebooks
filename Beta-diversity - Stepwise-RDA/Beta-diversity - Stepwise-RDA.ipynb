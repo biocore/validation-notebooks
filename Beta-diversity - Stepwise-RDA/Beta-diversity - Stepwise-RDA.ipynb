{
 "cells": [
  {
   "cell_type": "markdown",
   "metadata": {},
   "source": [
    "# Set up notebook environment\n",
    "## Note: This notebook should be run with a kernel for a conda environment with QIIME2 installed."
   ]
  },
  {
   "cell_type": "code",
   "execution_count": 1,
   "metadata": {},
   "outputs": [],
   "source": [
    "import os\n",
    "import biom\n",
    "import warnings\n",
    "import pickle\n",
    "import numpy as np\n",
    "import pandas as pd\n",
    "import qiime2 as q2\n",
    "from biom import Table\n",
    "from skbio import OrdinationResults\n",
    "from skbio.stats import subsample_counts\n",
    "from skbio.stats.distance import permanova, anosim, mantel\n",
    "from skbio.stats.distance import DistanceMatrix\n",
    "from qiime2.plugins.deicode.actions import rpca\n",
    "from qiime2.plugins.feature_table.actions import rarefy\n",
    "from qiime2.plugins.diversity.actions import beta_group_significance\n",
    "from qiime2.plugins.emperor.actions import biplot, plot\n",
    "from qiime2.plugins.diversity.actions import (beta,\n",
    "                                              beta_phylogenetic,\n",
    "                                              pcoa)\n",
    "from qiime2.plugins import demux, deblur, quality_filter, \\\n",
    "                           metadata, feature_table, alignment, \\\n",
    "                           phylogeny, diversity, emperor, feature_classifier, \\\n",
    "                           taxa, composition\n",
    "\n",
    "from assets.step_wise_anova import run_stepwise_anova\n",
    "from qiime2.plugins.fragment_insertion.actions import filter_features\n",
    "warnings.filterwarnings(\"ignore\", category=DeprecationWarning)\n",
    "\n",
    "# helper functions\n",
    "from assets.util_updated import (mantel_matched, simulate_depth,\n",
    "                        all_dists, all_dists_no_tree, nested_permanova)\n",
    "\n",
    "# plotting\n",
    "import matplotlib\n",
    "import seaborn as sns\n",
    "import matplotlib.pyplot as plt\n",
    "warnings.filterwarnings('ignore')\n",
    "\n",
    "plt.style.use('ggplot')\n",
    "%matplotlib inline\n"
   ]
  },
  {
   "cell_type": "markdown",
   "metadata": {},
   "source": [
    "# Stepwise ANOVA-RDA"
   ]
  },
  {
   "cell_type": "markdown",
   "metadata": {},
   "source": [
    "## Run on data including a phylogeny\n",
    "### Note: Replace the paths on lines 2-4 with those to your desired inputs"
   ]
  },
  {
   "cell_type": "code",
   "execution_count": 2,
   "metadata": {},
   "outputs": [],
   "source": [
    "# Import data\n",
    "metadata_q2 = q2.Metadata.load('metadata_samples.txt')\n",
    "table_with_phylogeny = q2.Artifact.load('table_biom_with_phylogeny.qza')\n",
    "phylogeny = q2.Artifact.load('phylogeny.qza')\n"
   ]
  },
  {
   "cell_type": "markdown",
   "metadata": {},
   "source": [
    "### Note: Replace the value on line 15 below with the desired rarefaction depth"
   ]
  },
  {
   "cell_type": "code",
   "execution_count": 3,
   "metadata": {
    "scrolled": true
   },
   "outputs": [],
   "source": [
    "# Filter feature-table to include samples in metadata and re-index metadata file\n",
    "table_with_phylogeny_biom = table_with_phylogeny.view(Table)\n",
    "metadata_df = metadata_q2.to_dataframe()\n",
    "shared_ = list(set(table_with_phylogeny_biom.ids()) & set(metadata_df.index))\n",
    "metadata_df_shared_with_phylogeny = metadata_df.reindex(shared_)\n",
    "table_with_phylogeny_biom_shared = table_with_phylogeny_biom.filter(shared_)\n",
    "keep_ = table_with_phylogeny_biom_shared.ids('observation')[table_with_phylogeny_biom_shared.sum('observation') > 0]\n",
    "table_with_phylogeny_biom_shared.filter(keep_, axis='observation')\n",
    "\n",
    "# Import filtered table and re-indexed metadata file\n",
    "table_with_phylogeny_biom_shared_q2 = q2.Artifact.import_data('FeatureTable[Frequency]', table_with_phylogeny_biom_shared)\n",
    "metadata_df_shared_with_phylogeny_q2 = q2.Metadata(metadata_df_shared_with_phylogeny)\n",
    "\n",
    "# Generate distance matrices (using 'all_dists' function in assets/util.py)\n",
    "rare_depth_with_phylogeny = 10000\n",
    "dists_res_with_phylogeny = all_dists(table_with_phylogeny_biom_shared_q2,\n",
    "                      rare_depth_with_phylogeny, phylogeny)\n",
    "\n",
    "# Generate ordinations (row=samples, cols=axes)\n",
    "pcoa_res_with_phylogeny = {}\n",
    "pcoa_res_with_phylogeny['Jaccard'] = pcoa(dists_res_with_phylogeny['Jaccard'].distance_matrix).pcoa.view(OrdinationResults).samples\n",
    "pcoa_res_with_phylogeny['Unweighted UniFrac'] = pcoa(dists_res_with_phylogeny['Unweighted UniFrac'].distance_matrix).pcoa.view(OrdinationResults).samples\n",
    "pcoa_res_with_phylogeny['Weighted UniFrac'] = pcoa(dists_res_with_phylogeny['Weighted UniFrac'].distance_matrix).pcoa.view(OrdinationResults).samples\n",
    "pcoa_res_with_phylogeny['RPCA'] = dists_res_with_phylogeny['RPCA'].biplot.view(OrdinationResults).samples\n"
   ]
  },
  {
   "cell_type": "markdown",
   "metadata": {},
   "source": [
    "### Note:  Replace the path on line 29 with that to where output should go"
   ]
  },
  {
   "cell_type": "code",
   "execution_count": null,
   "metadata": {
    "scrolled": false
   },
   "outputs": [],
   "source": [
    "# Perform stepwise ANOVA-RDA\n",
    "es_all = {}\n",
    "use_ = ['round','sample_type','sample_type_2','sample_type_3','biomass_sample','extraction_kit_round']\n",
    "\n",
    "# Clean up metadata (only stuff to run)\n",
    "mf_ord = metadata_df_shared_with_phylogeny_q2.to_dataframe().copy()\n",
    "\n",
    "# Filter data\n",
    "keep_ = [v_ for v_ in mf_ord.columns\n",
    "         if len(set(mf_ord[v_])) > 1 and\n",
    "         len(set(mf_ord[v_])) < mf_ord.shape[0]//2]\n",
    "mf_ord = mf_ord[keep_]\n",
    "\n",
    "# Run stepwise ANOVA for all RDA ordinations\n",
    "for metric_, ord_ in  pcoa_res_with_phylogeny.items():\n",
    "    # get first three axes\n",
    "    ord_ = ord_[[0,1,2]]\n",
    "    ord_.columns = ['PC1','PC2','PC3']\n",
    "    # subset/match\n",
    "    mf_ord_ = mf_ord.copy()\n",
    "    shared_ids = list(set(ord_.index)\\\n",
    "                      & set(mf_ord_.index))\n",
    "    mf_ord_ = mf_ord_.loc[shared_ids,:]\n",
    "    ord_ = ord_.loc[shared_ids,:]\n",
    "    es_all[metric_] = run_stepwise_anova(ord_, mf_ord_, use_)\n",
    "\n",
    "# Concatenate output from all runs and export\n",
    "es_alldf = pd.concat(es_all).rename({'+ sample_type_2':'Sample Type'}, axis=0)\n",
    "es_alldf.to_csv('results/stepwise_anova/stepwise_anova_with_phylogeny.txt', sep='\\t')\n",
    "es_alldf\n"
   ]
  },
  {
   "cell_type": "markdown",
   "metadata": {},
   "source": [
    "## Run on data without a phylogeny\n",
    "### Note: Replace the paths on lines 2-3 with those to your desired inputs"
   ]
  },
  {
   "cell_type": "code",
   "execution_count": 17,
   "metadata": {},
   "outputs": [],
   "source": [
    "# Import data\n",
    "metadata = q2.Metadata.load('metadata_samples.txt')\n",
    "table_without_phylogeny = q2.Artifact.load('table_without_phylogeny.qza')\n"
   ]
  },
  {
   "cell_type": "markdown",
   "metadata": {},
   "source": [
    "### Note: Replace the value on line 15 below with the desired rarefaction depth"
   ]
  },
  {
   "cell_type": "code",
   "execution_count": 18,
   "metadata": {
    "scrolled": true
   },
   "outputs": [],
   "source": [
    "# Filter table\n",
    "table_without_phylogeny_biom = table_without_phylogeny.view(Table)\n",
    "metadata_df = metadata.to_dataframe()\n",
    "shared_ = list(set(table_without_phylogeny_biom.ids()) & set(metadata_df.index))\n",
    "metadata_df_shared_without_phylogeny = metadata_df.reindex(shared_)\n",
    "table_without_phylogeny_biom_shared = table_without_phylogeny_biom.filter(shared_)\n",
    "keep_ = table_without_phylogeny_biom_shared.ids('observation')[table_without_phylogeny_biom_shared.sum('observation') > 0]\n",
    "table_without_phylogeny_biom_shared.filter(keep_, axis='observation')\n",
    "\n",
    "# Import filtered table and re-indexed metadata file\n",
    "table_without_phylogeny_biom_shared_q2 = q2.Artifact.import_data('FeatureTable[Frequency]', table_without_phylogeny_biom_shared)\n",
    "metadata_df_shared_without_phylogeny_q2 = q2.Metadata(metadata_df_shared_without_phylogeny)\n",
    "\n",
    "# Generate distance matrices (using 'all_dists_no_tree' function in assets/util.py)\n",
    "rare_depth_without_phylogeny = 630\n",
    "dists_res_without_phylogeny = all_dists_no_tree(table_without_phylogeny_biom_shared_q2,\n",
    "                      rare_depth_without_phylogeny)\n",
    "\n",
    "# Generate ordinations (row=samples, cols=axes)\n",
    "pcoa_res_without_phylogeny = {}\n",
    "pcoa_res_without_phylogeny['Jaccard'] = pcoa(dists_res_without_phylogeny['Jaccard'].distance_matrix).pcoa.view(OrdinationResults).samples\n",
    "pcoa_res_without_phylogeny['RPCA'] = dists_res_without_phylogeny['RPCA'].biplot.view(OrdinationResults).samples\n"
   ]
  },
  {
   "cell_type": "markdown",
   "metadata": {},
   "source": [
    "### Note:  Replace the path on line 29 with that to where output should go"
   ]
  },
  {
   "cell_type": "code",
   "execution_count": null,
   "metadata": {
    "scrolled": true
   },
   "outputs": [],
   "source": [
    "# Perform stepwise ANOVA-RDA\n",
    "es_all = {}\n",
    "use_ = ['round','sample_type','sample_type_2','sample_type_3','biomass_sample','extraction_kit_round']\n",
    "\n",
    "# Clean up metadata (only stuff to run)\n",
    "mf_ord = metadata_df_shared_without_phylogeny_q2.to_dataframe().copy()\n",
    "\n",
    "# Filter data\n",
    "keep_ = [v_ for v_ in mf_ord.columns\n",
    "         if len(set(mf_ord[v_])) > 1 and\n",
    "         len(set(mf_ord[v_])) < mf_ord.shape[0]//2]\n",
    "mf_ord = mf_ord[keep_]\n",
    "\n",
    "# Run stepwise ANOVA for all RDA ordinations\n",
    "for metric_, ord_ in  pcoa_res_without_phylogeny.items():\n",
    "    # get first three axes\n",
    "    ord_ = ord_[[0,1,2]]\n",
    "    ord_.columns = ['PC1','PC2','PC3']\n",
    "    # subset/match\n",
    "    mf_ord_ = mf_ord.copy()\n",
    "    shared_ids = list(set(ord_.index)\\\n",
    "                      & set(mf_ord_.index))\n",
    "    mf_ord_ = mf_ord_.loc[shared_ids,:]\n",
    "    ord_ = ord_.loc[shared_ids,:]\n",
    "    es_all[metric_] = run_stepwise_anova(ord_, mf_ord_, use_)\n",
    "\n",
    "# Concatenate output from all runs and export\n",
    "es_alldf = pd.concat(es_all).rename({'+ sample_type_2':'Sample Type'}, axis=0)\n",
    "es_alldf.to_csv('results/stepwise_anova/stepwise_anova_without_phylogeny.txt', sep='\\t')\n",
    "es_alldf\n"
   ]
  }
 ],
 "metadata": {
  "kernelspec": {
   "display_name": "Python (qiime2-2022.2)",
   "language": "python",
   "name": "qiime2-2021.11"
  },
  "language_info": {
   "codemirror_mode": {
    "name": "ipython",
    "version": 3
   },
   "file_extension": ".py",
   "mimetype": "text/x-python",
   "name": "python",
   "nbconvert_exporter": "python",
   "pygments_lexer": "ipython3",
   "version": "3.8.12"
  }
 },
 "nbformat": 4,
 "nbformat_minor": 4
}
