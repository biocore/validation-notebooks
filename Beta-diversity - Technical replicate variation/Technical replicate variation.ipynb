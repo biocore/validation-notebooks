{
 "cells": [
  {
   "cell_type": "markdown",
   "metadata": {},
   "source": [
    "# Set up notebook environment\n",
    "## Note: This notebook should be run with a kernel for a conda environment with QIIME2 installed."
   ]
  },
  {
   "cell_type": "code",
   "execution_count": 1,
   "metadata": {},
   "outputs": [],
   "source": [
    "import pandas as pd\n",
    "import qiime2 as q2\n",
    "import numpy as np\n",
    "import plotnine as pn\n",
    "from biom import Table, load_table\n",
    "from qiime2.plugins.deicode.actions import rpca\n",
    "from qiime2.plugins.diversity.actions import beta_phylogenetic\n",
    "from qiime2.plugins.diversity.actions import beta\n",
    "from qiime2.plugins.diversity.actions import alpha\n",
    "from qiime2.plugins.feature_table.actions import rarefy\n",
    "from skbio import DistanceMatrix\n",
    "\n",
    "s=\"sample\"\n",
    "o=\"observation\"\n",
    "\n",
    "%matplotlib inline\n"
   ]
  },
  {
   "cell_type": "markdown",
   "metadata": {},
   "source": [
    "## Import data\n",
    "### Note: Change the paths to the inputs below to those desired"
   ]
  },
  {
   "cell_type": "code",
   "execution_count": 2,
   "metadata": {},
   "outputs": [],
   "source": [
    "# Data\n",
    "qza = q2.Artifact.load(\"table.qza\")\n",
    "bt = qza.view(Table)\n",
    "\n",
    "# Rarefied data\n",
    "qza_rare = q2.Artifact.load(\"table_rarefied_12690.qza\")\n",
    "bt_rare = qza_rare.view(Table)\n",
    "\n",
    "# Metadata\n",
    "md = pd.read_csv(\"metadata_samples.txt\",sep='\\t', index_col=0)\n",
    "md.index.name=\"sample_name\"\n",
    "\n",
    "# Tree\n",
    "tree_q2 = q2.Artifact.load(\"phylogeny.qza\")\n",
    "\n",
    "# Filter table to include samples in metadata and re-index metadata\n",
    "bt_samples = set(bt.ids(s))\n",
    "md = md[md.index.isin(bt_samples)]\n"
   ]
  },
  {
   "cell_type": "markdown",
   "metadata": {},
   "source": [
    "## Calculate distances\n",
    "### Note: Change the value on line 1 below to the desired rarefaction depth, and the second value on line 15 to the desired minimum read count for samples for calculating RPCA distances"
   ]
  },
  {
   "cell_type": "code",
   "execution_count": 3,
   "metadata": {},
   "outputs": [
    {
     "name": "stderr",
     "output_type": "stream",
     "text": [
      "/Users/Justin/miniconda3/envs/qiime2-2022.2/lib/python3.8/site-packages/sklearn/metrics/pairwise.py:1776: DataConversionWarning: Data was converted to boolean for metric jaccard\n"
     ]
    }
   ],
   "source": [
    "rarefaction_depth = 12690\n",
    "\n",
    "dms = {}\n",
    "\n",
    "# Jaccard\n",
    "dms[\"jaccard\"] = beta(table=qza_rare, metric=\"jaccard\").distance_matrix.view(DistanceMatrix)\n",
    "\n",
    "# weighted unifrac\n",
    "dms[\"weighted_unifrac\"] = beta_phylogenetic(table=qza_rare, phylogeny=tree_q2, metric=\"weighted_unifrac\").distance_matrix.view(DistanceMatrix)\n",
    "\n",
    "# unweighted unifrac\n",
    "dms[\"unweighted_unifrac\"] = beta_phylogenetic(table=qza_rare, phylogeny=tree_q2, metric=\"unweighted_unifrac\").distance_matrix.view(DistanceMatrix)\n",
    "\n",
    "# Deicode\n",
    "bplt, dm= rpca(table=qza,n_components=3, min_sample_count=rarefaction_depth, min_feature_frequency=10)\n",
    "dms[\"deicode\"] = dm.view(DistanceMatrix)\n"
   ]
  },
  {
   "cell_type": "markdown",
   "metadata": {},
   "source": [
    "## Generate dataframes for plotting\n",
    "### Note: Change the variables on line 1 below to the desired sample type variable and the desired grouping variable. Change the variables on lines 8 and 10-12 to match the new variables ('sample1_' and 'sample2_' can be left as is)"
   ]
  },
  {
   "cell_type": "code",
   "execution_count": 4,
   "metadata": {},
   "outputs": [],
   "source": [
    "md_variable = md.loc[:,[\"sample_type_3\",\"extraction_kit_round\"]]\n",
    "out_dfs = {}\n",
    "for metric,dm in dms.items():\n",
    "    df = dm.to_data_frame()\n",
    "    df=df.reset_index().melt(id_vars=\"index\")\n",
    "    df.columns=[\"sample1\",\"sample2\",\"value\"]\n",
    "    df = df.merge(md_variable, right_index=True, left_on=\"sample1\")\n",
    "    df = df.rename(columns={\"sample_type_3\":\"sample1_type\",\"extraction_kit_round\":\"sample1_extraction_kit_round\"})\n",
    "    df = df.merge(md_variable, right_index=True, left_on=\"sample2\")\n",
    "    df = df.rename(columns={\"sample_type_3\":\"sample2_type\",\"extraction_kit_round\":\"sample2_extraction_kit_round\"})\n",
    "    df = df.merge(md.loc[:,[\"sample_type\",\"sample_type_2\",\"biomass_plate\"]], right_index=True, left_on=\"sample1\")\n",
    "    df = df.query('sample1_type==sample2_type & sample1_extraction_kit_round==sample2_extraction_kit_round & sample1!=sample2')\n",
    "    out_dfs[metric] = df\n",
    "    "
   ]
  },
  {
   "cell_type": "markdown",
   "metadata": {},
   "source": [
    "## Export data frames\n",
    "### Note: Change the output paths below to those desired"
   ]
  },
  {
   "cell_type": "code",
   "execution_count": 9,
   "metadata": {},
   "outputs": [],
   "source": [
    "metric=\"jaccard\"\n",
    "df = out_dfs[metric]\n",
    "df = df.drop_duplicates(\"value\")\n",
    "df.to_csv(\"data_tech_reps_jaccard.txt\", sep = '\\t', index = False)\n"
   ]
  },
  {
   "cell_type": "code",
   "execution_count": 10,
   "metadata": {},
   "outputs": [],
   "source": [
    "metric=\"deicode\"\n",
    "df = out_dfs[metric]\n",
    "df = df.drop_duplicates(\"value\")\n",
    "df.to_csv(\"data_tech_reps_rpca.txt\", sep = '\\t', index = False)\n"
   ]
  },
  {
   "cell_type": "code",
   "execution_count": 11,
   "metadata": {},
   "outputs": [],
   "source": [
    "metric=\"unweighted_unifrac\"\n",
    "df = out_dfs[metric]\n",
    "df = df.drop_duplicates(\"value\")\n",
    "df.to_csv(\"data_tech_reps_unifrac.txt\", sep = '\\t', index = False)\n"
   ]
  },
  {
   "cell_type": "code",
   "execution_count": 12,
   "metadata": {},
   "outputs": [],
   "source": [
    "metric=\"weighted_unifrac\"\n",
    "df = out_dfs[metric]\n",
    "df = df.drop_duplicates(\"value\")\n",
    "df.to_csv(\"data_tech_reps_weighted_unifrac.txt\", sep = '\\t', index = False)\n"
   ]
  },
  {
   "cell_type": "markdown",
   "metadata": {},
   "source": [
    "# Proceed to plotting in R"
   ]
  }
 ],
 "metadata": {
  "kernelspec": {
   "display_name": "Python (qiime2-2022.2)",
   "language": "python",
   "name": "qiime2-2021.11"
  },
  "language_info": {
   "codemirror_mode": {
    "name": "ipython",
    "version": 3
   },
   "file_extension": ".py",
   "mimetype": "text/x-python",
   "name": "python",
   "nbconvert_exporter": "python",
   "pygments_lexer": "ipython3",
   "version": "3.8.12"
  }
 },
 "nbformat": 4,
 "nbformat_minor": 4
}
