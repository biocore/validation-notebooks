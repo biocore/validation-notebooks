{
 "cells": [
  {
   "cell_type": "markdown",
   "metadata": {},
   "source": [
    "# Set-up notebook environment\n",
    "## Note: This notebook should be run with a kernel for a conda environment with songbird and QIIME2 (e.g., QIIME2-2020.6) installed."
   ]
  },
  {
   "cell_type": "code",
   "execution_count": 1,
   "metadata": {},
   "outputs": [],
   "source": [
    "import os\n",
    "import biom\n",
    "import warnings\n",
    "import numpy as np\n",
    "import pandas as pd\n",
    "import qiime2 as q2\n",
    "from biom import Table\n",
    "from assets.util import add_taxsplit\n",
    "from skbio import OrdinationResults\n",
    "from qiime2.plugins.songbird.actions import multinomial, summarize_paired\n",
    "from qiime2.plugins.emperor.actions import biplot\n",
    "\n",
    "# Plotting\n",
    "import matplotlib\n",
    "import seaborn as sns\n",
    "import matplotlib.pyplot as plt\n",
    "from upsetplot import UpSet\n",
    "from upsetplot import generate_counts, plot\n",
    "from upsetplot import from_memberships\n",
    "from matplotlib_venn import venn2\n",
    "from matplotlib_venn import (venn3, venn3_circles,\n",
    "                             venn2_circles)\n",
    "\n",
    "warnings.filterwarnings('ignore')\n",
    "warnings.filterwarnings(\"ignore\", category=DeprecationWarning)\n",
    "plt.style.use('ggplot')\n",
    "plt.style.use('tableau-colorblind10')\n",
    "paper_rc = {'lines.markersize': 5}                  \n",
    "sns.set_context(\"paper\", rc = paper_rc)   \n",
    "plt.rcParams['xtick.labelsize'] = 18\n",
    "plt.rcParams['ytick.labelsize'] = 18\n",
    "plt.rcParams['axes.linewidth'] = 2\n",
    "plt.rcParams[\"font.weight\"] = \"bold\"\n",
    "plt.rcParams[\"axes.labelweight\"] = \"bold\"\n",
    "plt.rcParams['xtick.major.pad'] = '.1'\n",
    "\n",
    "%matplotlib inline\n"
   ]
  },
  {
   "cell_type": "code",
   "execution_count": 2,
   "metadata": {},
   "outputs": [],
   "source": [
    "def format_uplot(df):\n",
    "    df_binary = (df > 0.0).rename(columns=lambda x: x + '>0')\n",
    "    df = pd.concat([df, df_binary], axis=1)\n",
    "    index_ = df.index\n",
    "    df = df.set_index(list(df_binary.columns))\n",
    "    df['taxa'] = index_\n",
    "    return df\n"
   ]
  },
  {
   "cell_type": "markdown",
   "metadata": {},
   "source": [
    "# Create UpSet plots"
   ]
  },
  {
   "cell_type": "markdown",
   "metadata": {},
   "source": [
    "## Note: This code is designed for handling multiple data types simultaneously (e.g., 16S and shotgun metagenomic); see details on line 2. Edit the variable name on line 21 to the one you want to use in comparisons. Change the path on line 68 to the desired output path."
   ]
  },
  {
   "cell_type": "code",
   "execution_count": null,
   "metadata": {
    "scrolled": true
   },
   "outputs": [],
   "source": [
    "# Define different protocols\n",
    "# NOTE: If you only have one data type (e.g., 16S), remove this loop or add the same data to both protocols\n",
    "protocols = {}\n",
    "protocols['16S'] = ['table_16S.qza',\n",
    "                    '12201_metadata.txt',\n",
    "                    'taxonomy_16S.qza']\n",
    "protocols['metagenomic'] = ['table_shotgun.qza',\n",
    "                            '12201_metadata.txt',\n",
    "                            'taxonomy_shotgun.qza']\n",
    "\n",
    "# Repeat for both protocols\n",
    "for protocol, (table, metadata, taxonomy) in protocols.items():\n",
    "    # Import data\n",
    "    table = q2.Artifact.load(table).view(biom.Table)\n",
    "    metadata = q2.Metadata.load(metadata).to_dataframe()\n",
    "    # Match tables\n",
    "    shared_ = set(table.ids()) & set(metadata.index)\n",
    "    table = table.filter(shared_)\n",
    "    metadata = metadata.reindex(shared_)\n",
    "\n",
    "    if 'qza' not in taxonomy:\n",
    "        taxonomy = q2.Metadata.load(taxonomy).to_dataframe()\n",
    "    else:\n",
    "        taxonomy = q2.Artifact.load(taxonomy).view(q2.Metadata).to_dataframe()\n",
    "    taxonomy = add_taxsplit(taxonomy) # Split by taxonomic level\n",
    "    taxonomy.reindex(table.ids('observation'))\n",
    "\n",
    "    total_kits = []\n",
    "    for kit_, mfdf in metadata.groupby('variable'):\n",
    "        # Get all taxa for this level\n",
    "        psbt = table.copy()\n",
    "        psbt = psbt.filter(mfdf.index)\n",
    "        keep_ = psbt.ids('observation')[psbt.sum('observation') > 0]\n",
    "        psbt = psbt.filter(keep_, axis='observation')\n",
    "        psbt = pd.DataFrame(psbt.sum(axis='observation'),\n",
    "                            psbt.ids('observation'),\n",
    "                            [kit_])\n",
    "        total_kits.append(psbt)\n",
    "    # Combine totals\n",
    "    totaldf = pd.concat(total_kits, axis=1).fillna(0)\n",
    "    totaldf.head(5)\n",
    "\n",
    "    # Format plotting for each level\n",
    "    formatted_levels = {}\n",
    "    for level_ in taxonomy.columns[3:]:\n",
    "        tax_ = taxonomy.loc[totaldf.index, level_].copy().dropna()\n",
    "        totaldf_tax = totaldf.loc[tax_.index, :].copy()\n",
    "        totaldf_tax[level_] = tax_.loc[totaldf_tax.index,]\n",
    "        totaldf_tax = totaldf_tax.groupby(level_).sum()\n",
    "        totaldf_tax = format_uplot(totaldf_tax)\n",
    "        formatted_levels[level_] = totaldf_tax.copy()\n",
    "\n",
    "    for level_, pltdf_ in formatted_levels.items():\n",
    "        print(level_)\n",
    "        # UpSet plot - Filters associations with < 5 unique taxa (min_subset_size)\n",
    "        fig = plt.figure(figsize=(12,10))\n",
    "        upset = UpSet(pltdf_, \n",
    "                      orientation = 'horizontal',\n",
    "                      sort_by = 'degree',\n",
    "                      sort_categories_by = 'cardinality',\n",
    "                      subset_size='count',\n",
    "                      min_subset_size = 5,\n",
    "                      element_size = 100,\n",
    "                      show_counts=True,\n",
    "                      show_percentages = True)\n",
    "        upset.plot(fig=fig)\n",
    "        # Save the figure to file\n",
    "        plt.savefig('results/upset_plots/protocol-%s_upset-%s.pdf' % (protocol, level_),dpi=600, \n",
    "                    bbox_inches='tight',\n",
    "                    facecolor=fig.get_facecolor(), \n",
    "                    edgecolor='none')\n",
    "\n",
    "        plt.show()\n"
   ]
  },
  {
   "cell_type": "code",
   "execution_count": null,
   "metadata": {},
   "outputs": [],
   "source": []
  }
 ],
 "metadata": {
  "kernelspec": {
   "display_name": "Python (qiime2-2020.6-songbird)",
   "language": "python",
   "name": "qiime2-2020.6-songbird"
  },
  "language_info": {
   "codemirror_mode": {
    "name": "ipython",
    "version": 3
   },
   "file_extension": ".py",
   "mimetype": "text/x-python",
   "name": "python",
   "nbconvert_exporter": "python",
   "pygments_lexer": "ipython3",
   "version": "3.6.10"
  }
 },
 "nbformat": 4,
 "nbformat_minor": 2
}
