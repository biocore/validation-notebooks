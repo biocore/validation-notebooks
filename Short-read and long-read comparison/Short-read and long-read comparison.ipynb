{
 "cells": [
  {
   "cell_type": "markdown",
   "metadata": {},
   "source": [
    "# Set up notebook environment\n",
    "## NOTE: Use a QIIME2 kernel"
   ]
  },
  {
   "cell_type": "code",
   "execution_count": null,
   "metadata": {},
   "outputs": [],
   "source": [
    "import pandas as pd\n",
    "import qiime2\n"
   ]
  },
  {
   "cell_type": "markdown",
   "metadata": {},
   "source": [
    "# 1. Generate taxon profiles for short-read data\n",
    "## NOTE: Feature-table of counts of Web of Life gOTUs was obtained from QIITA"
   ]
  },
  {
   "cell_type": "markdown",
   "metadata": {},
   "source": [
    "## Filter controls from feature-table"
   ]
  },
  {
   "cell_type": "code",
   "execution_count": null,
   "metadata": {},
   "outputs": [],
   "source": [
    "%%bash\n",
    "\n",
    "qiime feature-table filter-samples \\\n",
    "  --i-table woltka_wol_biom.qza \\\n",
    "  --m-metadata-file metadata_samples.txt \\\n",
    "  --p-where 'empo_1 != \"Control\"' \\\n",
    "  --o-filtered-table woltka_wol_biom_noControls.qza\n",
    "\n",
    "qiime feature-table summarize \\\n",
    "  --i-table woltka_wol_biom_noControls.qza \\\n",
    "  --o-visualization woltka_wol_biom_noControls.qzv\n"
   ]
  },
  {
   "cell_type": "markdown",
   "metadata": {},
   "source": [
    "## Normalize sampling effort\n",
    "### NOTE: Change the value on line 5 to the desired minimum frequency per sample"
   ]
  },
  {
   "cell_type": "code",
   "execution_count": null,
   "metadata": {},
   "outputs": [],
   "source": [
    "%%bash\n",
    "\n",
    "qiime feature-table filter-samples \\\n",
    "  --i-table woltka_wol_biom_noControls.qza \\\n",
    "  --p-min-frequency 60000 \\\n",
    "  --o-filtered-table woltka_wol_biom_noControls_normalized.qza \\\n",
    "\n",
    "qiime feature-table summarize \\\n",
    "  --i-table woltka_wol_biom_noControls_normalized.qza \\\n",
    "  --o-visualization woltka_wol_biom_noControls_normalized.qzv \\\n"
   ]
  },
  {
   "cell_type": "markdown",
   "metadata": {},
   "source": [
    "## Estimate alpha-diversity"
   ]
  },
  {
   "cell_type": "code",
   "execution_count": null,
   "metadata": {},
   "outputs": [],
   "source": [
    "!qiime diversity alpha \\\n",
    "  --i-table woltka_wol_biom_noControls_normalized.qza \\\n",
    "  --p-metric 'observed_features' \\\n",
    "  --o-alpha-diversity woltka_wol_biom_noControls_normalized_alpha_richness.qza\n"
   ]
  },
  {
   "cell_type": "markdown",
   "metadata": {},
   "source": [
    "## Estimate beta-diversity"
   ]
  },
  {
   "cell_type": "code",
   "execution_count": null,
   "metadata": {},
   "outputs": [],
   "source": [
    "%%bash\n",
    "\n",
    "qiime deicode rpca \\\n",
    "  --i-table woltka_wol_biom_noControls_normalized.qza \\\n",
    "  --p-min-feature-count 0 \\\n",
    "  --p-min-sample-count 0 \\\n",
    "  --o-biplot woltka_wol_biom_noControls_normalized_rpca_biplot.qza \\\n",
    "  --o-distance-matrix woltka_wol_biom_noControls_normalized_rpca_dist.qza\n",
    "    \n",
    "qiime emperor biplot \\\n",
    "  --i-biplot woltka_wol_biom_noControls_normalized_rpca_biplot.qza \\\n",
    "  --m-sample-metadata-file metadata_samples.txt \\\n",
    "  --m-feature-metadata-file wol_taxonomy.qza \\\n",
    "  --p-number-of-features 10 \\\n",
    "  --o-visualization woltka_wol_biom_noControls_normalized_rpca_biplot.qzv\n"
   ]
  },
  {
   "cell_type": "markdown",
   "metadata": {},
   "source": [
    "# 2. Generate taxon profiles for long-read data"
   ]
  },
  {
   "cell_type": "markdown",
   "metadata": {},
   "source": [
    "## Generate taxonomic profile using the Web of Life database"
   ]
  },
  {
   "cell_type": "markdown",
   "metadata": {},
   "source": [
    "Concatenate FASTQ files for each sample"
   ]
  },
  {
   "cell_type": "code",
   "execution_count": null,
   "metadata": {},
   "outputs": [],
   "source": [
    "%%bash\n",
    "\n",
    "barcode_list='/path/to/barcode_list.txt'\n",
    "input_path='/path/to/fastq/pass/'\n",
    "output_path='/path/to/fastq_concatenated/'\n",
    "input_fastq_suffix='/*.fastq.gz'\n",
    "output_fastq_suffix='_all.fastq.gz'\n",
    "\n",
    "for i in $(cat < \"$barcode_list\");\n",
    "do\n",
    "  cat \"$input_path\"\"$i\"\"$fastq_suffix\" > \"$output_path\"\"$i\"\"output_fastq_suffix\"\n",
    "done\n"
   ]
  },
  {
   "cell_type": "markdown",
   "metadata": {},
   "source": [
    "Profile taxonomy"
   ]
  },
  {
   "cell_type": "code",
   "execution_count": null,
   "metadata": {},
   "outputs": [],
   "source": [
    "%%bash\n",
    "\n",
    "barcode_list='/path/to/barcode_list.txt'\n",
    "input_path='/path/to/fastq_concatenated/'\n",
    "input_file_suffix='_all.fastq.gz'\n",
    "centrifuge_index_basename='/projects/wol/release/databases/centrifuge/WoLr1'\n",
    "output_path='/path/to/centrifuge_profile_long_read/'\n",
    "output_class_suffix='_classification.txt'\n",
    "output_report_suffix='_report.txt'\n",
    "\n",
    "for i in $(cat < \"$barcode_list\");\n",
    "do\n",
    "  centrifuge \\\n",
    "    -U \"$input_path\"\"$i\"\"$input_file_suffix\" \\\n",
    "    -q \\\n",
    "    --phred33 \\\n",
    "    --threads 1 \\\n",
    "    -x \"$centrifuge_index_basename\" \\\n",
    "    -S \"$output_path\"\"$i\"\"$output_class_suffix\" \\\n",
    "    --report-file \"$output_path\"\"$i\"\"$output_report_suffix\"\n",
    "done\n"
   ]
  },
  {
   "cell_type": "markdown",
   "metadata": {},
   "source": [
    "## Generate feature-table from taxon profile\n",
    "### NOTE: The files 'ogu_from_maps.py' and 'nucl2g.txt' can be obtained from https://biocore.github.io/wol/protocols/community_ecology"
   ]
  },
  {
   "cell_type": "markdown",
   "metadata": {},
   "source": [
    "Generate table"
   ]
  },
  {
   "cell_type": "code",
   "execution_count": null,
   "metadata": {},
   "outputs": [],
   "source": [
    "%%bash\n",
    "\n",
    "input_path = '/path/to/centrifuge_profile_long_read/'\n",
    "output_path = '/path/to/feature_table_long_read/'\n",
    "\n",
    "ogu_from_maps.py \"$input_path\" \"$output_path\" -m centrifuge -e .map.xz -t nucl2g.txt\n"
   ]
  },
  {
   "cell_type": "markdown",
   "metadata": {},
   "source": [
    "Convert TSV to BIOM"
   ]
  },
  {
   "cell_type": "code",
   "execution_count": null,
   "metadata": {},
   "outputs": [],
   "source": [
    "%%bash\n",
    "\n",
    "input_path = '/path/to/feature_table_long_read/'\n",
    "output_path = '/path/to/feature_table_long_read/'\n",
    "\n",
    "biom convert -i \"$input_path\"norm.tsv -o \"$output_path\"centrifuge_wol_norm.biom --table-type=\"OTU table\" --to-hdf5\n"
   ]
  },
  {
   "cell_type": "markdown",
   "metadata": {},
   "source": [
    "Filter low-abundance features"
   ]
  },
  {
   "cell_type": "code",
   "execution_count": null,
   "metadata": {},
   "outputs": [],
   "source": [
    "%%bash\n",
    "\n",
    "input_path = '/path/to/feature_table_long_read/'\n",
    "output_path = '/path/to/feature_table_long_read/'\n",
    "\n",
    "filter_otus_per_sample.py \"$input_path\"centrifuge_wol_norm.biom 0.0001 \"$output_path\"centrifuge_wol_norm_clean.biom\n"
   ]
  },
  {
   "cell_type": "markdown",
   "metadata": {},
   "source": [
    "Import BIOM into QIIME2"
   ]
  },
  {
   "cell_type": "code",
   "execution_count": null,
   "metadata": {},
   "outputs": [],
   "source": [
    "%%bash\n",
    "\n",
    "qiime tools import \\\n",
    "  --input-path centrifuge_wol_norm_clean.biom \\\n",
    "  --type 'FeatureTable[Frequency]' \\\n",
    "  --input-format BIOMV210Format \\\n",
    "  --output-path centrifuge_wol_norm_clean.qza\n",
    "\n",
    "qiime feature-table summarize \\\n",
    "  --i-table centrifuge_wol_norm_clean.qza \\\n",
    "  --o-visualization centrifuge_wol_norm_clean.qzv\n"
   ]
  },
  {
   "cell_type": "markdown",
   "metadata": {},
   "source": [
    "## Filter controls from feature-table"
   ]
  },
  {
   "cell_type": "code",
   "execution_count": null,
   "metadata": {},
   "outputs": [],
   "source": [
    "%%bash\n",
    "\n",
    "qiime feature-table filter-samples \\\n",
    "  --i-table centrifuge_wol_norm_clean.qza \\\n",
    "  --m-metadata-file metadata_samples.txt \\\n",
    "  --p-where 'sample_type != \"negative control\"' \\\n",
    "  --o-filtered-table centrifuge_wol_norm_clean_noControls.qza\n",
    "\n",
    "qiime feature-table summarize \\\n",
    "  --i-table centrifuge_wol_norm_clean_noControls.qza \\\n",
    "  --o-visualization centrifuge_wol_norm_clean_noControls.qzv\n"
   ]
  },
  {
   "cell_type": "markdown",
   "metadata": {},
   "source": [
    "## Normalize sampling effort\n",
    "### NOTE: Change the value on line 5 to the desired minimum frequency per sample"
   ]
  },
  {
   "cell_type": "code",
   "execution_count": null,
   "metadata": {},
   "outputs": [],
   "source": [
    "%%bash\n",
    "\n",
    "qiime feature-table filter-samples \\\n",
    "  --i-table centrifuge_wol_norm_clean_noControls.qza \\\n",
    "  --p-min-frequency 60000 \\\n",
    "  --o-filtered-table centrifuge_wol_norm_clean_noControls_normalized.qza \\\n",
    "\n",
    "qiime feature-table summarize \\\n",
    "  --i-table centrifuge_wol_norm_clean_noControls_normalized.qza \\\n",
    "  --o-visualization centrifuge_wol_norm_clean_noControls_normalized.qzv \\\n"
   ]
  },
  {
   "cell_type": "markdown",
   "metadata": {},
   "source": [
    "## Estimate alpha-diversity"
   ]
  },
  {
   "cell_type": "code",
   "execution_count": null,
   "metadata": {},
   "outputs": [],
   "source": [
    "!qiime diversity alpha \\\n",
    "  --i-table centrifuge_wol_norm_clean_noControls_normalized.qza \\\n",
    "  --p-metric 'observed_features' \\\n",
    "  --o-alpha-diversity centrifuge_wol_norm_clean_noControls_normalized_alpha_richness.qza\n"
   ]
  },
  {
   "cell_type": "markdown",
   "metadata": {},
   "source": [
    "## Estimate beta-diversity"
   ]
  },
  {
   "cell_type": "code",
   "execution_count": null,
   "metadata": {},
   "outputs": [],
   "source": [
    "%%bash\n",
    "\n",
    "qiime deicode rpca \\\n",
    "  --i-table centrifuge_wol_norm_clean_noControls_normalized.qza \\\n",
    "  --p-min-feature-count 0 \\\n",
    "  --p-min-sample-count 0 \\\n",
    "  --o-biplot centrifuge_wol_norm_clean_noControls_normalized_rpca_biplot.qza \\\n",
    "  --o-distance-matrix centrifuge_wol_norm_clean_noControls_normalized_rpca_dist.qza\n",
    "    \n",
    "qiime emperor biplot \\\n",
    "  --i-biplot centrifuge_wol_norm_clean_noControls_normalized_rpca_biplot.qza \\\n",
    "  --m-sample-metadata-file metadata_samples.txt \\\n",
    "  --m-feature-metadata-file wol_taxonomy.qza \\\n",
    "  --p-number-of-features 10 \\\n",
    "  --o-visualization centrifuge_wol_norm_clean_noControls_normalized_rpca_biplot.qzv\n"
   ]
  },
  {
   "cell_type": "markdown",
   "metadata": {},
   "source": [
    "# 3. Compare taxon profiles between short-read and long-read data"
   ]
  },
  {
   "cell_type": "markdown",
   "metadata": {},
   "source": [
    "## Mantel test"
   ]
  },
  {
   "cell_type": "code",
   "execution_count": null,
   "metadata": {},
   "outputs": [],
   "source": [
    "!qiime diversity mantel \\\n",
    "  --i-dm1 woltka_wol_biom_noControls_normalized_rpca_dist.qza \\\n",
    "  --i-dm2 centrifuge_wol_norm_clean_noControls_normalized_rpca_dist.qza \\\n",
    "  --p-method 'spearman' \\\n",
    "  --p-label1 'short-read - RPCA' \\\n",
    "  --p-label2 'long-read - RPCA' \\\n",
    "  --p-intersect-ids \\\n",
    "  --o-visualization wol_short_vs_long_read_normalized_rpca_dist_mantel_spearman.qzv\n"
   ]
  },
  {
   "cell_type": "markdown",
   "metadata": {},
   "source": [
    "# 4. Generate assemblies for short-read and long-read data"
   ]
  },
  {
   "cell_type": "markdown",
   "metadata": {},
   "source": [
    "### Short-read data\n",
    "#### NOTE: Spades v3.15.1"
   ]
  },
  {
   "cell_type": "code",
   "execution_count": null,
   "metadata": {},
   "outputs": [],
   "source": [
    "%%bash\n",
    "\n",
    "module load spades_3.15.1\n",
    "\n",
    "sample_list='/path/to/sample_list.txt'\n",
    "input_path='/path/to/raw_per_sample_fastq/'\n",
    "file_suffix_r1='_L001_R1_001.trimmed.fastq.gz'\n",
    "file_suffix_r2='_L001_R2_001.trimmed.fastq.gz'\n",
    "output_path='/path/to/assembly_short_read/'\n",
    "\n",
    "for i in $(cat < \"$sample_list\");\n",
    "do\n",
    "  metaspades.py \\\n",
    "    -1 \"$input_path\"\"$i\"\"$file_suffix_r1\" \\\n",
    "    -2 \"$input_path\"\"$i\"\"$file_suffix_r2\" \\\n",
    "    --threads 1 \\\n",
    "    --memory 1 \\\n",
    "    -o \"$output_path\"\"$i\"\n",
    "done\n"
   ]
  },
  {
   "cell_type": "markdown",
   "metadata": {},
   "source": [
    "### Long-read data\n",
    "#### NOTE: Flye v2.8.3-b1695"
   ]
  },
  {
   "cell_type": "code",
   "execution_count": null,
   "metadata": {},
   "outputs": [],
   "source": [
    "%%bash\n",
    "\n",
    "conda activate flye\n",
    "\n",
    "sample_list='/path/to/sample_list.txt'\n",
    "input_path='/path/to/fastq_concatenated/'\n",
    "input_suffix='_all.fastq.gz'\n",
    "output_path='/path/to/assembly_long_read/'\n",
    "\n",
    "for i in $(cat < \"$sample_list\");\n",
    "do\n",
    "flye \\\n",
    "  --nano-raw \"$input_path\"\"$i\"\"$input_suffix\" \\\n",
    "  --out-dir \"$output_path\"\"$i\"/ \\\n",
    "  --keep-haplotypes \\\n",
    "  --threads 1 \\\n",
    "  --meta\n",
    "done\n"
   ]
  },
  {
   "cell_type": "markdown",
   "metadata": {},
   "source": [
    "# 5. Compare assemblies between short-read and long-read data\n"
   ]
  },
  {
   "cell_type": "markdown",
   "metadata": {},
   "source": [
    "## Quast"
   ]
  },
  {
   "cell_type": "markdown",
   "metadata": {},
   "source": [
    "### Copy assemblies into a single directory"
   ]
  },
  {
   "cell_type": "code",
   "execution_count": null,
   "metadata": {},
   "outputs": [],
   "source": [
    "# Short-read assemblies\n",
    "\n",
    "%%bash\n",
    "\n",
    "sample_list='/path/to/sample_list.txt'\n",
    "input_path='/path/to/short_read_assemblies/'\n",
    "input_suffix='/scaffolds.fasta'\n",
    "output_path='/path/to/all_assemblies/'\n",
    "short_read_suffix='_short_read.fasta'\n",
    "\n",
    "for i in $(cat < \"$sample_list\");\n",
    "do\n",
    "cp \"$input_path\"\"$i\"\"$input_suffix\" \"$output_path\"\"$i\"\"$short_read_suffix\"\n",
    "done\n"
   ]
  },
  {
   "cell_type": "code",
   "execution_count": null,
   "metadata": {},
   "outputs": [],
   "source": [
    "# Long-read assemblies\n",
    "\n",
    "%%bash\n",
    "\n",
    "sample_list='/path/to/sample_list.txt'\n",
    "input_path='/path/to/long_read_assemblies/'\n",
    "input_suffix='/assembly.fasta'\n",
    "output_path='/path/to/all_assemblies/'\n",
    "short_read_suffix='_long_read.fasta'\n",
    "\n",
    "for i in $(cat < \"$sample_list\");\n",
    "do\n",
    "cp \"$input_path\"\"$i\"\"$input_suffix\" \"$output_path\"\"$i\"\"$long_read_suffix\"\n",
    "done\n"
   ]
  },
  {
   "cell_type": "markdown",
   "metadata": {},
   "source": [
    "### Run Quast"
   ]
  },
  {
   "cell_type": "code",
   "execution_count": null,
   "metadata": {},
   "outputs": [],
   "source": [
    "%%bash\n",
    "\n",
    "conda activate quast\n",
    "\n",
    "sample_list='/path/to/sample_list_all_assemblies.txt'\n",
    "input_path='/path/to/all_assemblies/'\n",
    "output_path='/path/to/quast_reports/'\n",
    "\n",
    "for i in $(cat < \"$sample_list\");\n",
    "do\n",
    "quast \\\n",
    "  --output-dir \"$output_path\"\"$i\" \\\n",
    "  --est-ref-size 5000000 \\\n",
    "  --threads 1 \\\n",
    "  \"$input_path\"\"$i\"\n",
    "done\n"
   ]
  },
  {
   "cell_type": "markdown",
   "metadata": {},
   "source": [
    "## CheckM"
   ]
  },
  {
   "cell_type": "code",
   "execution_count": null,
   "metadata": {},
   "outputs": [],
   "source": [
    "%%bash\n",
    "\n",
    "conda activate checkm\n",
    "\n",
    "input_path='/path/to/all_assemblies/'\n",
    "output_path='/path/to/checkm_reports/'\n",
    "\n",
    "checkm \\\n",
    "  taxonomy_wf domain Bacteria \\\n",
    "  \"$input_path\" \\\n",
    "  -x 'fasta' \\\n",
    "  --threads 1 \\\n",
    "  \"$output_path\"\n"
   ]
  },
  {
   "cell_type": "markdown",
   "metadata": {},
   "source": [
    "## antiSMASH\n",
    "### NOTE: antiSMASH 5"
   ]
  },
  {
   "cell_type": "code",
   "execution_count": null,
   "metadata": {},
   "outputs": [],
   "source": [
    "%%bash\n",
    "\n",
    "source activate antismash\n",
    "\n",
    "sample_list='/path/to/sample_list.txt'\n",
    "input_path='/path/to/all_assemblies/'\n",
    "output_path='/path/to/antismash_output/'\n",
    "\n",
    "for i in $(cat < \"$sample_list\");\n",
    "do\n",
    "  antismash \\\n",
    "    --cpus 1 \\\n",
    "    --taxon bacteria \\\n",
    "    --smcog-trees \\\n",
    "    --cb-general \\\n",
    "    --cb-subclusters \\\n",
    "    --cb-knownclusters \\\n",
    "    --pfam2go \\\n",
    "    --output-dir \"$output_path\"\"$i\"/ \\\n",
    "    --genefinding-tool prodigal-m \\\n",
    "    \"$input_path\"\"$i\".fasta\n",
    "done\n"
   ]
  },
  {
   "cell_type": "markdown",
   "metadata": {},
   "source": [
    "## Move antiSMASH results from each sample into a single folder"
   ]
  },
  {
   "cell_type": "code",
   "execution_count": null,
   "metadata": {},
   "outputs": [],
   "source": [
    "# Clusterblast\n",
    "\n",
    "%%bash\n",
    "\n",
    "sample_list='/path/to/sample_list.txt'\n",
    "input_path='/path/to/antismash_output/'\n",
    "output_path='/path/to/antismash_output_clusterblast/'\n",
    "\n",
    "for i in $(cat < \"$sample_list\");\n",
    "do\n",
    "  cp \"$input_path\"\"$i\"/clusterblastoutput.txt \"$output_path\"\"$i\"_clusterblastoutput.txt\n",
    "done\n"
   ]
  },
  {
   "cell_type": "markdown",
   "metadata": {},
   "source": [
    "## Merge results from each platform into a single feature-table"
   ]
  },
  {
   "cell_type": "code",
   "execution_count": null,
   "metadata": {},
   "outputs": [],
   "source": [
    "%%bash\n",
    "\n",
    "# Short-read\n",
    "\n",
    "python ogu_from_maps.py \\\n",
    "/path/to/antismash_output_clusterblast/ \\\n",
    "  antismash_clusters_short_read \\\n",
    "  -e \"short_read_clusterblastoutput.txt\"\n",
    "\n",
    "# Long-read\n",
    "python ogu_from_maps.py \\\n",
    "/path/to/antismash_output_clusterblast/ \\\n",
    "  antismash_clusters_long_read \\\n",
    "  -e \"long_read_clusterblastoutput.txt\"\n"
   ]
  },
  {
   "cell_type": "markdown",
   "metadata": {},
   "source": [
    "## Convert tables to BIOM format"
   ]
  },
  {
   "cell_type": "code",
   "execution_count": null,
   "metadata": {},
   "outputs": [],
   "source": [
    "%%bash\n",
    "\n",
    "# Short-read\n",
    "biom convert \\\n",
    "  -i antismash_clusters_short_read.norm.tsv \\\n",
    "  -o antismash_clusters_short_read_norm_biom.biom \\\n",
    "  --table-type=\"OTU table\" \\\n",
    "  --to-hdf5\n",
    "\n",
    "# Long-read\n",
    "biom convert \\\n",
    "  -i antismash_clusters_long_read.norm.tsv \\\n",
    "  -o antismash_clusters_long_read_norm_biom.biom \\\n",
    "  --table-type=\"OTU table\" \\\n",
    "  --to-hdf5\n"
   ]
  },
  {
   "cell_type": "markdown",
   "metadata": {},
   "source": [
    "## Import into QIIME2"
   ]
  },
  {
   "cell_type": "code",
   "execution_count": null,
   "metadata": {},
   "outputs": [],
   "source": [
    "%%bash\n",
    "\n",
    "# Short-read\n",
    "qiime tools import \\\n",
    "  --input-path antismash_clusters_short_read_norm_biom.biom \\\n",
    "  --type 'FeatureTable[Frequency]' \\\n",
    "  --input-format BIOMV210Format \\\n",
    "  --output-path antismash_clusters_short_read_norm_biom.qza\n",
    "\n",
    "# Long-read\n",
    "qiime tools import \\\n",
    "  --input-path antismash_clusters_long_read_norm_biom.biom \\\n",
    "  --type 'FeatureTable[Frequency]' \\\n",
    "  --input-format BIOMV210Format \\\n",
    "  --output-path antismash_clusters_long_read_norm_biom.qza\n"
   ]
  },
  {
   "cell_type": "markdown",
   "metadata": {},
   "source": [
    "## Normalize sampling depth"
   ]
  },
  {
   "cell_type": "code",
   "execution_count": null,
   "metadata": {},
   "outputs": [],
   "source": [
    "%%bash\n",
    "\n",
    "# Short-read\n",
    "qiime feature-table filter-samples \\\n",
    "  --i-table antismash_clusters_short_read_norm_biom.qza \\\n",
    "  --p-min-frequency X \\\n",
    "  --o-filtered-table antismash_clusters_short_read_norm_biom_normalized.qza \\\n",
    "\n",
    "# Long-read\n",
    "qiime feature-table filter-samples \\\n",
    "  --i-table antismash_clusters_short_read_norm_biom.qza \\\n",
    "  --p-min-frequency X \\\n",
    "  --o-filtered-table antismash_clusters_long_read_norm_biom_normalized.qza \\\n"
   ]
  },
  {
   "cell_type": "markdown",
   "metadata": {},
   "source": [
    "## Beta-diversity (RPCA)"
   ]
  },
  {
   "cell_type": "code",
   "execution_count": null,
   "metadata": {},
   "outputs": [],
   "source": [
    "%%bash\n",
    "\n",
    "# Short-read\n",
    "qiime deicode rpca \\\n",
    "  --i-table antismash_clusters_short_read_norm_biom_normalized.qza \\\n",
    "  --p-min-feature-count 0 \\\n",
    "  --p-min-sample-count 0 \\\n",
    "  --o-biplot antismash_clusters_short_read_norm_biom_normalized_rpca_biplot.qza \\\n",
    "  --o-distance-matrix antismash_clusters_short_read_norm_biom_normalized_rpca_dist.qza\n",
    "  \n",
    "# Long-read\n",
    "qiime deicode rpca \\\n",
    "  --i-table antismash_clusters_long_read_norm_biom_normalized.qza \\\n",
    "  --p-min-feature-count 0 \\\n",
    "  --p-min-sample-count 0 \\\n",
    "  --o-biplot antismash_clusters_long_read_norm_biom_normalized_rpca_biplot.qza \\\n",
    "  --o-distance-matrix antismash_clusters_long_read_norm_biom_normalized_rpca_dist.qza\n",
    "  "
   ]
  },
  {
   "cell_type": "markdown",
   "metadata": {},
   "source": [
    "## Mantel test"
   ]
  },
  {
   "cell_type": "code",
   "execution_count": null,
   "metadata": {},
   "outputs": [],
   "source": [
    "!qiime diversity mantel \\\n",
    "  --i-dm1 antismash_clusters_short_read_norm_biom_normalized_rpca_dist.qza \\\n",
    "  --i-dm2 antismash_clusters_long_read_norm_biom_normalized_rpca_dist.qza \\\n",
    "  --p-method 'spearman' \\\n",
    "  --p-label1 'short-read - RPCA' \\\n",
    "  --p-label2 'long-read - RPCA' \\\n",
    "  --p-intersect-ids \\\n",
    "  --o-visualization antismash_clusters_short_vs_long_read_normalized_rpca_dist_mantel_spearman.qzv\n"
   ]
  },
  {
   "cell_type": "markdown",
   "metadata": {},
   "source": [
    "# 6. Polish assemblies from long-read data with short-read data"
   ]
  },
  {
   "cell_type": "markdown",
   "metadata": {},
   "source": [
    "## 6.a. Map short-reads against long-read assemblies"
   ]
  },
  {
   "cell_type": "markdown",
   "metadata": {},
   "source": [
    "### Create bowtie2 databases from long-read assemblies"
   ]
  },
  {
   "cell_type": "code",
   "execution_count": null,
   "metadata": {},
   "outputs": [],
   "source": [
    "module load bowtie2_bowtie2-2.3.2\n",
    "\n",
    "sample_list='/path/to/sample_list.txt'\n",
    "assembly_path='/path/to/long_read_assemblies/'\n",
    "assembly_suffix='assembly.fasta'\n",
    "output_path='/path/to/bowtie2_index/'\n",
    "\n",
    "for i in $(cat < \"$sample_list\");\n",
    "do\n",
    "    bowtie2-build \\\n",
    "      \"$assembly_path\"\"$i\"\"$assembly_suffix\" \\\n",
    "      \"$output_path\"\"$assembly_prefix\"\"$i\" \\\n",
    "      -f\n",
    "done\n"
   ]
  },
  {
   "cell_type": "markdown",
   "metadata": {},
   "source": [
    "### Map short-reads"
   ]
  },
  {
   "cell_type": "code",
   "execution_count": null,
   "metadata": {},
   "outputs": [],
   "source": [
    "# on barnacle...\n",
    "\n",
    "module load bowtie2_bowtie2-2.3.2\n",
    "\n",
    "sample_list='/path/to/sample_list.txt'\n",
    "index_path='path/to/bowtie2_index/'\n",
    "fastq_path='/path/to/short_read_fastq/'\n",
    "input_fastq_r1_suffix='_L001_R1_001.trimmed.fastq.gz'\n",
    "input_fastq_r2_suffix='_L001_R2_001.trimmed.fastq.gz'\n",
    "output_path='/path/to/short_read_mappings/'\n",
    "log_path='/path/to/bowtie2_logs/'\n",
    "\n",
    "for i in $(cat < \"$sample_list\");\n",
    "do\n",
    "    bowtie2 \\\n",
    "      -x \"$index_path\"\"$i\" \\\n",
    "      -p 1 \\\n",
    "      --very-sensitive \\\n",
    "      -1 \"$fastq_path\"\"$i\"\"$input_fastq_r1_suffix\" \\\n",
    "      -2 \"$fastq_path\"\"$i\"\"$input_fastq_r2_suffix\" \\\n",
    "      2> \"$log_path\"bowtie2_log_\"$i\".txt \\\n",
    "      -S \"$output_path\"\"$i\"\"$aligned_sam\".sam\n",
    "done\n"
   ]
  },
  {
   "cell_type": "markdown",
   "metadata": {},
   "source": [
    "## 6.b. Sort and index sam files for input to Pilon"
   ]
  },
  {
   "cell_type": "code",
   "execution_count": null,
   "metadata": {},
   "outputs": [],
   "source": [
    "module load samtools_1.12\n",
    "\n",
    "sample_list='/path/to/sample_list.txt'\n",
    "file_path='/path/to/short_read_mappings/'\n",
    "log_path='/path/to/samtools_logs/'\n",
    "\n",
    "for i in $(cat < \"$sample_list\");\n",
    "do\n",
    "    samtools view \\\n",
    "      -bS \"$file_path\"\"$i\".sam \\\n",
    "      -o \"$file_path\"\"$i\"_unsorted.bam \\\n",
    "      2> \"$log_path\"samtools_log_view_\"$i\".txt\n",
    "\n",
    "    samtools sort \\\n",
    "      -T \"$file_path\"\"$i\" \\\n",
    "      -@ 1 \\\n",
    "      -o \"$file_path\"\"$i\"_sorted.bam \\\n",
    "      \"$file_path\"\"$i\"_unsorted.bam \\\n",
    "      2> \"$log_path\"samtools_log_sort_\"$i\".txt\n",
    "    \n",
    "    samtools index \\\n",
    "      -@ 1 \\\n",
    "      \"$file_path\"\"$i\"_sorted.bam \\\n",
    "      \"$file_path\"\"$i\"_sorted.bam.bai \\\n",
    "      2> \"$log_path\"samtools_log_index_\"$i\".txt\n",
    "done\n"
   ]
  },
  {
   "cell_type": "markdown",
   "metadata": {},
   "source": [
    "## 6.c. Install and run pilon"
   ]
  },
  {
   "cell_type": "code",
   "execution_count": null,
   "metadata": {},
   "outputs": [],
   "source": [
    "conda create -n pilon python=3.6\n",
    "conda activate pilon\n",
    "conda install -c bioconda pilon\n"
   ]
  },
  {
   "cell_type": "code",
   "execution_count": null,
   "metadata": {},
   "outputs": [],
   "source": [
    "# Note: Change the value on line 19 to the total amount of memory available across all threads\n",
    "conda activate pilon\n",
    "\n",
    "sample_list='/path/to/sample_list.txt'\n",
    "assembly_path='/path/to/long_read_assemblies/'\n",
    "assembly_suffix='.fasta'\n",
    "bam_path='/path/to/short_read_mappings/'\n",
    "output_path='/path/to/polished_assemblies/'\n",
    "polished_assembly_prefix='polished_'\n",
    "\n",
    "for i in $(cat < \"$sample_list\");\n",
    "do\n",
    "    pilon \\\n",
    "      --genome \"$assembly_path\"\"$assembly_prefix\"\"$i\"\"$assembly_suffix\" \\\n",
    "      --bam \"$bam_path\"\"$i\"_sorted.bam \\\n",
    "      --output \"$polished_assembly_prefix\"\"$i\" \\\n",
    "      --outdir \"$output_path\" \\\n",
    "      --changes \\\n",
    "      -Xmx128G\n",
    "done\n"
   ]
  },
  {
   "cell_type": "code",
   "execution_count": null,
   "metadata": {},
   "outputs": [],
   "source": []
  }
 ],
 "metadata": {
  "kernelspec": {
   "display_name": "Python 3",
   "language": "python",
   "name": "python3"
  },
  "language_info": {
   "codemirror_mode": {
    "name": "ipython",
    "version": 3
   },
   "file_extension": ".py",
   "mimetype": "text/x-python",
   "name": "python",
   "nbconvert_exporter": "python",
   "pygments_lexer": "ipython3",
   "version": "3.8.5"
  }
 },
 "nbformat": 4,
 "nbformat_minor": 4
}
